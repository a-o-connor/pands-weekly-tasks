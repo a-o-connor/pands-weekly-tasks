{
 "cells": [
  {
   "cell_type": "markdown",
   "metadata": {},
   "source": [
    "# Python: Weekday \n",
    "#### A program that outputs whether or not it is a weekday\n",
    "**Author: A.O'Connor**\n",
    "*********\n"
   ]
  },
  {
   "cell_type": "markdown",
   "metadata": {},
   "source": [
    "#### Import libraries:\n",
    "Import the datetime package\\\n",
    "Import the class date from the datetime package.\\\n",
    "This can be used to get the current date.\\\n",
    "Found this way of getting the current date from [this blogpost](https://ioflood.com/blog/python-get-current-date/#:~:text=To%20get%20the%20current%20date%20in%20Python%2C%20you%20can%20use,%2DMM%2DDD'%20format.&text=In%20this%20example%2C%20we%20first,class%20from%20the%20datetime%20module.)"
   ]
  },
  {
   "cell_type": "code",
   "execution_count": 1,
   "metadata": {},
   "outputs": [],
   "source": [
    "import datetime"
   ]
  },
  {
   "cell_type": "code",
   "execution_count": 2,
   "metadata": {},
   "outputs": [],
   "source": [
    "from datetime import date"
   ]
  },
  {
   "cell_type": "code",
   "execution_count": 3,
   "metadata": {},
   "outputs": [
    {
     "name": "stdout",
     "output_type": "stream",
     "text": [
      "2024-02-26\n"
     ]
    }
   ],
   "source": [
    "todays_date = date.today()\n",
    "print(todays_date)"
   ]
  },
  {
   "cell_type": "markdown",
   "metadata": {},
   "source": [
    "The isoweekday() function in the date module returns an integer corresponding to what day of the week it is.\\\n",
    "Found this out from this [tutorial](https://www.geeksforgeeks.org/isoweekday-method-of-datetime-class-in-python/) on the website geeksforgeeks. \n"
   ]
  },
  {
   "cell_type": "code",
   "execution_count": 4,
   "metadata": {},
   "outputs": [],
   "source": [
    "todays_day_number = date.isoweekday(todays_date)"
   ]
  },
  {
   "cell_type": "markdown",
   "metadata": {},
   "source": [
    "### Table of integers returned for each weekday:\n",
    "*******\n",
    "|Integer|Day of week|\n",
    "|------ |-----------|\n",
    "|1      |Monday|\n",
    "|2      |Tuesday|\n",
    "|3      |Wednesday|\n",
    "|4|Thursday|\n",
    "|5|Friday|\n",
    "|6|Saturday|\n",
    "|7|Sunday|\n",
    "****************\n",
    "Therefore, if the integer returned in todays_day_number is 1,2,3,4 or 5, it is a weekday, if the integer in 6 or 7, it is a weekend."
   ]
  },
  {
   "cell_type": "code",
   "execution_count": 5,
   "metadata": {},
   "outputs": [
    {
     "name": "stdout",
     "output_type": "stream",
     "text": [
      "Yes, unfortunately today is a weekday.\n"
     ]
    }
   ],
   "source": [
    "#If else statement that prints its a weekday if today's day number is 1,2,3,4 or 5, and its a weekend otherwise.\n",
    "#isoweekday will only return an integer, and does not return integers <1, so only need to specify <=5. \n",
    "if todays_day_number <= 5:\n",
    "    print(\"Yes, unfortunately today is a weekday.\")\n",
    "else: #isoweekday will not return an integer greater than 7, so don't need to specify further \n",
    "    print(\"It is the weekend, yay!\")"
   ]
  },
  {
   "cell_type": "code",
   "execution_count": null,
   "metadata": {},
   "outputs": [],
   "source": []
  }
 ],
 "metadata": {
  "kernelspec": {
   "display_name": "base",
   "language": "python",
   "name": "python3"
  },
  "language_info": {
   "codemirror_mode": {
    "name": "ipython",
    "version": 3
   },
   "file_extension": ".py",
   "mimetype": "text/x-python",
   "name": "python",
   "nbconvert_exporter": "python",
   "pygments_lexer": "ipython3",
   "version": "3.11.5"
  }
 },
 "nbformat": 4,
 "nbformat_minor": 2
}
