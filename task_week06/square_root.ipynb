{
 "cells": [
  {
   "cell_type": "markdown",
   "metadata": {},
   "source": [
    "# Python: Square Root \n",
    "**Author: A O'Connor**\\\n",
    "A program that  takes a positive floating-point number as input and outputs an approximation of its square root.\n",
    "***************************"
   ]
  },
  {
   "cell_type": "markdown",
   "metadata": {},
   "source": [
    "### The Newton Method \n",
    "References:  \n",
    "[Wikipedia](https://en.wikipedia.org/wiki/Newton%27s_method)\\\n",
    "[Youtube tutorial: World's Fastest Square Root: Newton's Method](https://www.youtube.com/watch?v=FpOEx6zFf1o&t=1s)\\\n",
    "<br>\n",
    "Newton's method is a root finding algorithm: \n",
    "$$x_{n+1} = \\frac{1}{2}(x_n + \\frac{a}{x_n})$$\n",
    "<br>\n",
    "\n",
    "The algorithm takes an initial guess in the place of $x_n$, and gets successively better approximations of the square root of $a$ as $x_n$ converges on $x_{n+1}$.\n",
    "\n",
    "**********************"
   ]
  },
  {
   "cell_type": "markdown",
   "metadata": {},
   "source": [
    "#### A function that calculates the square root of a given float using the Newton Method\n",
    "The function will take the number you want to get the square root of, (n)\\\n",
    "Initialize a variable: x = any initial guess for the square root\n",
    "- Write a while loop that continues until a break condition is met: \n",
    "- Do something: $r = 0.5(x + (\\frac{n}{x}))$\n",
    "- Define the break condition: if x and r are the same (within whatever precision you want...)\n",
    "- Change the variable $x = r$"
   ]
  },
  {
   "cell_type": "code",
   "execution_count": 1,
   "metadata": {},
   "outputs": [
    {
     "name": "stdout",
     "output_type": "stream",
     "text": [
      "The square root of 3.0 is 1.7321428571428572\n"
     ]
    }
   ],
   "source": [
    "my_number = float(input(\"Enter a number to find the square root of: \"))\n",
    "\n",
    "def square_root(n):\n",
    "    x = float(input(\"Input an initial guess: \")) # Initialize a variable\n",
    "    how_precise = float(input(\"Enter a tolerance level for the Newton Method: \"))\n",
    "    while True: # While loop start \n",
    "        r = 0.5*(x + (n/x)) # Do something to the variable\n",
    "        if abs(r-x) <= how_precise : # Break condition is if the answer is the same as x, within whatever precision you want to set here. \n",
    "            break                    # Abs because x could be larger than r in which case a negative value is returned.     \n",
    "        x = r\n",
    "    return r\n",
    "\n",
    "print(\"The square root of {number} is {answer}\".format(number = my_number, answer = square_root(my_number)))\n",
    "    \n"
   ]
  },
  {
   "cell_type": "markdown",
   "metadata": {},
   "source": [
    "***********\n",
    "**End**"
   ]
  }
 ],
 "metadata": {
  "kernelspec": {
   "display_name": "base",
   "language": "python",
   "name": "python3"
  },
  "language_info": {
   "codemirror_mode": {
    "name": "ipython",
    "version": 3
   },
   "file_extension": ".py",
   "mimetype": "text/x-python",
   "name": "python",
   "nbconvert_exporter": "python",
   "pygments_lexer": "ipython3",
   "version": "3.11.5"
  }
 },
 "nbformat": 4,
 "nbformat_minor": 2
}
