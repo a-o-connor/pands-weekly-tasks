{
 "cells": [
  {
   "cell_type": "markdown",
   "metadata": {},
   "source": [
    "## Weekly Task 07: How many e's? \n",
    "**Author: A. OConnor**\\\n",
    "A program that reads in a text file and outputs the number of e's it contains\n",
    "************************"
   ]
  },
  {
   "cell_type": "code",
   "execution_count": 1,
   "metadata": {},
   "outputs": [],
   "source": [
    "#Make a text file for the purpose of testing the function\n",
    "\n",
    "with open(\"testfile.txt\", \"w\") as f:\n",
    "    f.write(\"Lorem ipsum dolor sit amet, consectetur adipiscing elit, sed do eiusmod tempor incididunt ut labore et dolore magna aliqua. Ut enim ad minim veniam, quis nostrud exercitation ullamco laboris nisi ut aliquip ex ea commodo consequat. Duis aute irure dolor in reprehenderit in voluptate velit esse cillum dolore eu fugiat nulla pariatur. Excepteur sint occaecat cupidatat non proident, sunt in culpa qui officia deserunt mollit anim id est laborum.\")"
   ]
  },
  {
   "cell_type": "markdown",
   "metadata": {},
   "source": [
    "### Attempt 1"
   ]
  },
  {
   "cell_type": "code",
   "execution_count": 18,
   "metadata": {},
   "outputs": [
    {
     "name": "stdout",
     "output_type": "stream",
     "text": [
      "testfile.txt contains 37 instances of the letter e.\n"
     ]
    }
   ],
   "source": [
    "import os \n",
    "\n",
    "#Function to count the number of e's in the file\n",
    "def count_the_es(name_of_file): #The function takes 1 kwarg, that is the name of the file to be checked\n",
    "    with open(name_of_file, \"r\") as f: #Just open in read mode, no need to write this file\n",
    "        read_file = f.read() #Pass a variable to the read in file\n",
    "\n",
    "    counter = [] #Initialise an empty list\n",
    "    for character in read_file: #For each character in the file chosen...\n",
    "        if character == \"e\": #If this character is an e, add it to the list\n",
    "            counter.append(\"e\")\n",
    "        else: # Otherwise, ignore it\n",
    "            pass\n",
    "    return len(counter) #This function returns an integer that is the number of e's in the document\n",
    "\n",
    "########## MAIN PROGRAM ##############\n",
    "\n",
    "#Function that returns the number of e's \n",
    "def how_many_es_in():#Takes no arguments: want user to input filename themselves \n",
    "    name_of_file = input(\"What file would you like to check?\").strip()+\".txt\" \n",
    "    #Ask user what file they'd like to check\n",
    "    #strip whitespace from the user input and concatenate the .txt file extension to the input\n",
    "\n",
    "    #First, make sure the file exists and in saved to the working directory:\n",
    "    if os.path.exists(name_of_file):\n",
    "        print(f\"{name_of_file} contains {count_the_es(name_of_file)} instances of the letter e.\")  #If it does, carry out the count_the_es function defined earlier\n",
    "    else:\n",
    "        print(f\"Please save {name_of_file} to\\n{os.getcwd()}\\nin order to use this function.\") #If not, prompt user to save the file to the correct location\n",
    "\n",
    "\n",
    "how_many_es_in()\n",
    "\n",
    "\n",
    "\n"
   ]
  },
  {
   "cell_type": "markdown",
   "metadata": {},
   "source": [
    "### Attempt 2\n",
    "The counter list will get too long and take up too much space\\\n",
    "Make an alternative counter "
   ]
  },
  {
   "cell_type": "code",
   "execution_count": 20,
   "metadata": {},
   "outputs": [
    {
     "data": {
      "text/plain": [
       "37"
      ]
     },
     "execution_count": 20,
     "metadata": {},
     "output_type": "execute_result"
    }
   ],
   "source": [
    "\n",
    "#Alternative counter\n",
    "\n",
    "counter = 0\n",
    "\n",
    "def count_the_es(name_of_file): #The function takes 1 kwarg, that is the name of the file to be checked\n",
    "    with open(name_of_file, \"r\") as f: #Just open in read mode, no need to write this file\n",
    "        read_file = f.read() #Pass a variable to the read in file\n",
    "\n",
    "    counter = 0 #Initialise a counter at 0\n",
    "    for character in read_file: #For each character in the file chosen...\n",
    "        if character == \"e\": #If this character is an e, add it to the list\n",
    "            counter += 1\n",
    "        else: # Otherwise, ignore it\n",
    "            pass\n",
    "    return counter #This function returns an integer that is the number of e's in the document\n",
    "\n",
    "count_the_es(\"testfile.txt\")"
   ]
  },
  {
   "cell_type": "markdown",
   "metadata": {},
   "source": [
    "### Attempt 3\n",
    "Potential error: The filename given is not a text file\\\n",
    "Update the function to deal with this error. \n"
   ]
  },
  {
   "cell_type": "code",
   "execution_count": 5,
   "metadata": {},
   "outputs": [
    {
     "name": "stdout",
     "output_type": "stream",
     "text": [
      "Please save bbb.txt to\n",
      "c:\\Users\\oconnora\\Desktop\\compsci_data_analytics_hdip\\pands\\pands-mywork\\pands-labs\\week07\n",
      "in order to use this function.\n"
     ]
    }
   ],
   "source": [
    "#Error: The filename given is not a text file\n",
    "\n",
    "import os\n",
    "\n",
    "def how_many_es_in():#Takes no arguments: want user to input filename themselves\n",
    "\n",
    "    # name_of_file = input(\"What file would you like to check?\").strip()+\".txt\" \n",
    "    #Ask user what file they'd like to check\n",
    "    #strip whitespace from the user input and concatenate the .txt file extension to the input \n",
    "\n",
    "    # Rewrite the input to get the user to include the file extension\n",
    "    name_of_file = input(\"What file would you like to check? Please enter full name of file with file extension eg. This is my file.txt\").strip() \n",
    "    \n",
    "    if name_of_file[-4:] == \".txt\":\n",
    "        #First, make sure the file exists and in saved to the working directory:\n",
    "        if os.path.exists(name_of_file):\n",
    "            # print(f\"{name_of_file} contains {count_the_es(name_of_file)} instances of the letter e.\")  #If it does, carry out the count_the_es function defined earlier\n",
    "            print(\"The count_the_es function will be here\")\n",
    "        else:\n",
    "            print(f\"Please save {name_of_file} to\\n{os.getcwd()}\\nin order to use this function.\") #If not, prompt user to save the file to the correct location\n",
    "    else:\n",
    "        print(\"Please enter a .txt file.\")\n",
    "\n",
    "how_many_es_in()\n"
   ]
  },
  {
   "cell_type": "markdown",
   "metadata": {},
   "source": [
    "### Attempt 4 \n",
    "The program should take the filename from an argument on the command line.\n",
    "References:\\\n",
    "[Real Python: Python Command Line Arguments](https://realpython.com/python-command-line-arguments/)\\\n",
    "In order for the command line argument to be accepted, the file will need to be a .py file. \n",
    "Code in markdown cell below can be found in the file ecounter.py in this repository.  \n"
   ]
  },
  {
   "cell_type": "markdown",
   "metadata": {},
   "source": [
    "```python\n",
    "#Define a function that counts the e's once the txt file is loaded\n",
    "def count_the_es(name_of_file): #The function takes 1 kwarg, that is the name of the file to be checked\n",
    "    with open(name_of_file, \"r\") as f: #Just open in read mode, no need to write this file\n",
    "        read_file = f.read() #Pass a variable to the read in file\n",
    "\n",
    "    counter = 0 #Initialise a counter at 0\n",
    "    for character in read_file: #For each character in the file chosen...\n",
    "        if character == \"e\": #If this character is an e, add 1 to he counter\n",
    "            counter += 1\n",
    "        else: # Otherwise, ignore it\n",
    "            pass\n",
    "    return counter #This function returns an integer that is the number of e's in the document\n",
    "\n",
    "###### MAIN PROGRAM #########\n",
    "\n",
    "import os\n",
    "import sys\n",
    "\n",
    "#Define a function that gets the name of the file from the command line\n",
    "def how_many_es_in():#Takes no arguments\n",
    "    args = sys.argv\n",
    "    # Dealing with errors: want to concatenate filename with a space in it into 1 variable \n",
    "    # e.g. if the command line is $ es.py moby dick.txt\n",
    "    # args[1:] = [\"moby\", \"dick.txt\"]\n",
    "    # But filename variable should be \"moby dick.txt\"\n",
    "    # Using .join with a whitespace ' ' between each element of the returned list \n",
    "    name_of_file = ' '.join(args[1:])\n",
    "    \n",
    "    #Ensure that the filename has a .txt extension\n",
    "    if name_of_file[-4:] == \".txt\": \n",
    "        #First, make sure the file exists and in saved to the working directory:\n",
    "        if os.path.exists(name_of_file):\n",
    "            # print(f\"{name_of_file} contains {count_the_es(name_of_file)} instances of the letter e.\")  #If it does, carry out the count_the_es function defined earlier\n",
    "            print(\"The count_the_es function will be here\")\n",
    "        else:\n",
    "            print(f\"Please save {name_of_file} to\\n{os.getcwd()}\\nin order to use this function.\") #If not, prompt user to save the file to the correct location\n",
    "    else:\n",
    "        print(\"Please enter a .txt file.\")\n",
    "\n",
    "how_many_es_in()\n",
    "```"
   ]
  },
  {
   "cell_type": "code",
   "execution_count": null,
   "metadata": {},
   "outputs": [],
   "source": [
    "%run ecounter.py "
   ]
  }
 ],
 "metadata": {
  "kernelspec": {
   "display_name": "base",
   "language": "python",
   "name": "python3"
  },
  "language_info": {
   "codemirror_mode": {
    "name": "ipython",
    "version": 3
   },
   "file_extension": ".py",
   "mimetype": "text/x-python",
   "name": "python",
   "nbconvert_exporter": "python",
   "pygments_lexer": "ipython3",
   "version": "3.11.5"
  }
 },
 "nbformat": 4,
 "nbformat_minor": 2
}
